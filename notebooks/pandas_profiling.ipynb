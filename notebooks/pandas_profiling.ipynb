{
 "cells": [
  {
   "cell_type": "code",
   "execution_count": null,
   "metadata": {},
   "outputs": [],
   "source": [
    "from ydata_profiling import ProfileReport\n",
    "import pandas as pd"
   ]
  },
  {
   "cell_type": "code",
   "execution_count": null,
   "metadata": {},
   "outputs": [],
   "source": [
    "DATA = '../data/ml_project1_data.csv'\n",
    "df = pd.read_csv(DATA, sep='\\t')"
   ]
  },
  {
   "cell_type": "code",
   "execution_count": null,
   "metadata": {},
   "outputs": [],
   "source": [
    "profile = ProfileReport(\n",
    "    df, \n",
    "    title=\"iFood - Data Analysis\",\n",
    "    config_file=\"../config/config_profiling.yaml\"\n",
    ")\n",
    "profile.to_file(\"../reports/eda.html\")"
   ]
  }
 ],
 "metadata": {
  "kernelspec": {
   "display_name": "ifood-data-analyst",
   "language": "python",
   "name": "python3"
  },
  "language_info": {
   "name": "python",
   "version": "3.12.3"
  }
 },
 "nbformat": 4,
 "nbformat_minor": 2
}
