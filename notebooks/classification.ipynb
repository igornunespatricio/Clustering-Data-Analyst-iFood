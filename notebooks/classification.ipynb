{
 "cells": [
  {
   "cell_type": "code",
   "execution_count": 46,
   "metadata": {},
   "outputs": [],
   "source": [
    "import pandas as pd\n",
    "import matplotlib.pyplot as plt\n",
    "import seaborn as sns\n",
    "\n",
    "from sklearn.linear_model import LogisticRegression\n",
    "from sklearn.neighbors import KNeighborsClassifier\n",
    "from sklearn.dummy import DummyClassifier\n",
    "from sklearn.tree import DecisionTreeClassifier\n",
    "from sklearn.model_selection import StratifiedKFold\n",
    "from sklearn.preprocessing import OneHotEncoder, StandardScaler, MinMaxScaler, PowerTransformer\n",
    "from sklearn.compose import ColumnTransformer\n",
    "from imblearn.pipeline import Pipeline  # this pipeline is the same from sklearn, but for imbalanced data\n",
    "from sklearn.feature_selection import SelectKBest, f_classif\n",
    "from imblearn.under_sampling import RandomUnderSampler\n",
    "from sklearn.model_selection import cross_validate\n",
    "from pprint import pprint"
   ]
  },
  {
   "cell_type": "code",
   "execution_count": 2,
   "metadata": {},
   "outputs": [],
   "source": [
    "DATA = '../data/customers_clustered.csv'\n",
    "RANDOM_STATE = 42"
   ]
  },
  {
   "cell_type": "code",
   "execution_count": 3,
   "metadata": {},
   "outputs": [],
   "source": [
    "df_clustered = pd.read_csv(DATA)"
   ]
  },
  {
   "cell_type": "code",
   "execution_count": 4,
   "metadata": {},
   "outputs": [
    {
     "name": "stdout",
     "output_type": "stream",
     "text": [
      "<class 'pandas.core.frame.DataFrame'>\n",
      "RangeIndex: 2212 entries, 0 to 2211\n",
      "Data columns (total 36 columns):\n",
      " #   Column               Non-Null Count  Dtype  \n",
      "---  ------               --------------  -----  \n",
      " 0   Education            2212 non-null   object \n",
      " 1   Marital_Status       2212 non-null   object \n",
      " 2   Income               2212 non-null   float64\n",
      " 3   Kidhome              2212 non-null   int64  \n",
      " 4   Teenhome             2212 non-null   int64  \n",
      " 5   Recency              2212 non-null   int64  \n",
      " 6   MntWines             2212 non-null   int64  \n",
      " 7   MntFruits            2212 non-null   int64  \n",
      " 8   MntMeatProducts      2212 non-null   int64  \n",
      " 9   MntFishProducts      2212 non-null   int64  \n",
      " 10  MntSweetProducts     2212 non-null   int64  \n",
      " 11  MntGoldProds         2212 non-null   int64  \n",
      " 12  NumDealsPurchases    2212 non-null   int64  \n",
      " 13  NumWebPurchases      2212 non-null   int64  \n",
      " 14  NumCatalogPurchases  2212 non-null   int64  \n",
      " 15  NumStorePurchases    2212 non-null   int64  \n",
      " 16  NumWebVisitsMonth    2212 non-null   int64  \n",
      " 17  AcceptedCmp3         2212 non-null   int64  \n",
      " 18  AcceptedCmp4         2212 non-null   int64  \n",
      " 19  AcceptedCmp5         2212 non-null   int64  \n",
      " 20  AcceptedCmp1         2212 non-null   int64  \n",
      " 21  AcceptedCmp2         2212 non-null   int64  \n",
      " 22  Complain             2212 non-null   int64  \n",
      " 23  Response             2212 non-null   int64  \n",
      " 24  DaysSinceEnrolled    2212 non-null   int64  \n",
      " 25  YearsSinceEnrolled   2212 non-null   int64  \n",
      " 26  Age                  2212 non-null   int64  \n",
      " 27  AgeGroup             2212 non-null   object \n",
      " 28  MntTotal             2212 non-null   int64  \n",
      " 29  MntRegularProds      2212 non-null   int64  \n",
      " 30  Dependents           2212 non-null   int64  \n",
      " 31  hasDependent         2212 non-null   int64  \n",
      " 32  AcceptedCmpTotal     2212 non-null   int64  \n",
      " 33  hasAcceptedCmp       2212 non-null   int64  \n",
      " 34  NumTotalPurchases    2212 non-null   int64  \n",
      " 35  cluster              2212 non-null   int64  \n",
      "dtypes: float64(1), int64(32), object(3)\n",
      "memory usage: 622.3+ KB\n"
     ]
    }
   ],
   "source": [
    "df_clustered.info()"
   ]
  },
  {
   "cell_type": "code",
   "execution_count": 5,
   "metadata": {},
   "outputs": [],
   "source": [
    "X = df_clustered.drop('Response', axis=1)\n",
    "y = df_clustered['Response']"
   ]
  },
  {
   "cell_type": "code",
   "execution_count": 6,
   "metadata": {},
   "outputs": [
    {
     "data": {
      "text/html": [
       "<div>\n",
       "<style scoped>\n",
       "    .dataframe tbody tr th:only-of-type {\n",
       "        vertical-align: middle;\n",
       "    }\n",
       "\n",
       "    .dataframe tbody tr th {\n",
       "        vertical-align: top;\n",
       "    }\n",
       "\n",
       "    .dataframe thead th {\n",
       "        text-align: right;\n",
       "    }\n",
       "</style>\n",
       "<table border=\"1\" class=\"dataframe\">\n",
       "  <thead>\n",
       "    <tr style=\"text-align: right;\">\n",
       "      <th></th>\n",
       "      <th>Education</th>\n",
       "      <th>Marital_Status</th>\n",
       "      <th>Income</th>\n",
       "      <th>Kidhome</th>\n",
       "      <th>Teenhome</th>\n",
       "      <th>Recency</th>\n",
       "      <th>MntWines</th>\n",
       "      <th>MntFruits</th>\n",
       "      <th>MntMeatProducts</th>\n",
       "      <th>MntFishProducts</th>\n",
       "      <th>...</th>\n",
       "      <th>Age</th>\n",
       "      <th>AgeGroup</th>\n",
       "      <th>MntTotal</th>\n",
       "      <th>MntRegularProds</th>\n",
       "      <th>Dependents</th>\n",
       "      <th>hasDependent</th>\n",
       "      <th>AcceptedCmpTotal</th>\n",
       "      <th>hasAcceptedCmp</th>\n",
       "      <th>NumTotalPurchases</th>\n",
       "      <th>cluster</th>\n",
       "    </tr>\n",
       "  </thead>\n",
       "  <tbody>\n",
       "    <tr>\n",
       "      <th>0</th>\n",
       "      <td>Graduation</td>\n",
       "      <td>Single</td>\n",
       "      <td>58138.0</td>\n",
       "      <td>0</td>\n",
       "      <td>0</td>\n",
       "      <td>58</td>\n",
       "      <td>635</td>\n",
       "      <td>88</td>\n",
       "      <td>546</td>\n",
       "      <td>172</td>\n",
       "      <td>...</td>\n",
       "      <td>57</td>\n",
       "      <td>46-60</td>\n",
       "      <td>1617</td>\n",
       "      <td>1529</td>\n",
       "      <td>0</td>\n",
       "      <td>0</td>\n",
       "      <td>0</td>\n",
       "      <td>0</td>\n",
       "      <td>22</td>\n",
       "      <td>0</td>\n",
       "    </tr>\n",
       "    <tr>\n",
       "      <th>1</th>\n",
       "      <td>Graduation</td>\n",
       "      <td>Single</td>\n",
       "      <td>46344.0</td>\n",
       "      <td>1</td>\n",
       "      <td>1</td>\n",
       "      <td>38</td>\n",
       "      <td>11</td>\n",
       "      <td>1</td>\n",
       "      <td>6</td>\n",
       "      <td>2</td>\n",
       "      <td>...</td>\n",
       "      <td>60</td>\n",
       "      <td>46-60</td>\n",
       "      <td>27</td>\n",
       "      <td>21</td>\n",
       "      <td>2</td>\n",
       "      <td>1</td>\n",
       "      <td>0</td>\n",
       "      <td>0</td>\n",
       "      <td>4</td>\n",
       "      <td>1</td>\n",
       "    </tr>\n",
       "    <tr>\n",
       "      <th>2</th>\n",
       "      <td>Graduation</td>\n",
       "      <td>Partner</td>\n",
       "      <td>71613.0</td>\n",
       "      <td>0</td>\n",
       "      <td>0</td>\n",
       "      <td>26</td>\n",
       "      <td>426</td>\n",
       "      <td>49</td>\n",
       "      <td>127</td>\n",
       "      <td>111</td>\n",
       "      <td>...</td>\n",
       "      <td>49</td>\n",
       "      <td>46-60</td>\n",
       "      <td>776</td>\n",
       "      <td>734</td>\n",
       "      <td>0</td>\n",
       "      <td>0</td>\n",
       "      <td>0</td>\n",
       "      <td>0</td>\n",
       "      <td>20</td>\n",
       "      <td>0</td>\n",
       "    </tr>\n",
       "    <tr>\n",
       "      <th>3</th>\n",
       "      <td>Graduation</td>\n",
       "      <td>Partner</td>\n",
       "      <td>26646.0</td>\n",
       "      <td>1</td>\n",
       "      <td>0</td>\n",
       "      <td>26</td>\n",
       "      <td>11</td>\n",
       "      <td>4</td>\n",
       "      <td>20</td>\n",
       "      <td>10</td>\n",
       "      <td>...</td>\n",
       "      <td>30</td>\n",
       "      <td>16-30</td>\n",
       "      <td>53</td>\n",
       "      <td>48</td>\n",
       "      <td>1</td>\n",
       "      <td>1</td>\n",
       "      <td>0</td>\n",
       "      <td>0</td>\n",
       "      <td>6</td>\n",
       "      <td>1</td>\n",
       "    </tr>\n",
       "    <tr>\n",
       "      <th>4</th>\n",
       "      <td>PhD</td>\n",
       "      <td>Partner</td>\n",
       "      <td>58293.0</td>\n",
       "      <td>1</td>\n",
       "      <td>0</td>\n",
       "      <td>94</td>\n",
       "      <td>173</td>\n",
       "      <td>43</td>\n",
       "      <td>118</td>\n",
       "      <td>46</td>\n",
       "      <td>...</td>\n",
       "      <td>33</td>\n",
       "      <td>31-45</td>\n",
       "      <td>422</td>\n",
       "      <td>407</td>\n",
       "      <td>1</td>\n",
       "      <td>1</td>\n",
       "      <td>0</td>\n",
       "      <td>0</td>\n",
       "      <td>14</td>\n",
       "      <td>2</td>\n",
       "    </tr>\n",
       "  </tbody>\n",
       "</table>\n",
       "<p>5 rows × 35 columns</p>\n",
       "</div>"
      ],
      "text/plain": [
       "    Education Marital_Status   Income  Kidhome  Teenhome  Recency  MntWines  \\\n",
       "0  Graduation         Single  58138.0        0         0       58       635   \n",
       "1  Graduation         Single  46344.0        1         1       38        11   \n",
       "2  Graduation        Partner  71613.0        0         0       26       426   \n",
       "3  Graduation        Partner  26646.0        1         0       26        11   \n",
       "4         PhD        Partner  58293.0        1         0       94       173   \n",
       "\n",
       "   MntFruits  MntMeatProducts  MntFishProducts  ...  Age  AgeGroup  MntTotal  \\\n",
       "0         88              546              172  ...   57     46-60      1617   \n",
       "1          1                6                2  ...   60     46-60        27   \n",
       "2         49              127              111  ...   49     46-60       776   \n",
       "3          4               20               10  ...   30     16-30        53   \n",
       "4         43              118               46  ...   33     31-45       422   \n",
       "\n",
       "   MntRegularProds  Dependents  hasDependent  AcceptedCmpTotal  \\\n",
       "0             1529           0             0                 0   \n",
       "1               21           2             1                 0   \n",
       "2              734           0             0                 0   \n",
       "3               48           1             1                 0   \n",
       "4              407           1             1                 0   \n",
       "\n",
       "   hasAcceptedCmp  NumTotalPurchases  cluster  \n",
       "0               0                 22        0  \n",
       "1               0                  4        1  \n",
       "2               0                 20        0  \n",
       "3               0                  6        1  \n",
       "4               0                 14        2  \n",
       "\n",
       "[5 rows x 35 columns]"
      ]
     },
     "execution_count": 6,
     "metadata": {},
     "output_type": "execute_result"
    }
   ],
   "source": [
    "X.head()"
   ]
  },
  {
   "cell_type": "code",
   "execution_count": 7,
   "metadata": {},
   "outputs": [
    {
     "data": {
      "text/plain": [
       "0    1\n",
       "1    0\n",
       "2    0\n",
       "3    0\n",
       "4    0\n",
       "Name: Response, dtype: int64"
      ]
     },
     "execution_count": 7,
     "metadata": {},
     "output_type": "execute_result"
    }
   ],
   "source": [
    "y.head()"
   ]
  },
  {
   "cell_type": "code",
   "execution_count": 20,
   "metadata": {},
   "outputs": [],
   "source": [
    "one_hot_cols = [\n",
    "    'Education',\n",
    "    'Marital_Status',\n",
    "    'Kidhome',\n",
    "    'Teenhome',\n",
    "    'AcceptedCmp3',\n",
    "    'AcceptedCmp4', \n",
    "    'AcceptedCmp5', \n",
    "    'AcceptedCmp1', \n",
    "    'AcceptedCmp2',\n",
    "    'Complain',\n",
    "    # 'Response', \n",
    "    'hasDependent', \n",
    "    'hasAcceptedCmp', \n",
    "    'AgeGroup'\n",
    "]\n",
    "\n",
    "standard_scaler_cols = [\n",
    "    'Income',\n",
    "    'Age',\n",
    "    'NumTotalPurchases'\n",
    "]\n",
    "\n",
    "power_cols = [\n",
    "    'MntWines', \n",
    "    'MntFruits', \n",
    "    'MntMeatProducts',\n",
    "    'MntFishProducts', \n",
    "    'MntSweetProducts', \n",
    "    'MntGoldProds',\n",
    "    'MntTotal', \n",
    "    'MntRegularProds',\n",
    "    'NumDealsPurchases', \n",
    "    'NumWebPurchases', \n",
    "    'NumCatalogPurchases',\n",
    "    'NumStorePurchases', \n",
    "    'NumWebVisitsMonth'\n",
    "]\n",
    "\n",
    "min_max_scaler_cols = [\n",
    "    'Recency',\n",
    "    'DaysSinceEnrolled',\n",
    "    'YearsSinceEnrolled',\n",
    "    'Dependents',\n",
    "    'AcceptedCmpTotal'\n",
    "]"
   ]
  },
  {
   "cell_type": "code",
   "execution_count": 21,
   "metadata": {},
   "outputs": [
    {
     "data": {
      "text/plain": [
       "Index(['Education', 'Marital_Status', 'Income', 'Kidhome', 'Teenhome',\n",
       "       'Recency', 'MntWines', 'MntFruits', 'MntMeatProducts',\n",
       "       'MntFishProducts', 'MntSweetProducts', 'MntGoldProds',\n",
       "       'NumDealsPurchases', 'NumWebPurchases', 'NumCatalogPurchases',\n",
       "       'NumStorePurchases', 'NumWebVisitsMonth', 'AcceptedCmp3',\n",
       "       'AcceptedCmp4', 'AcceptedCmp5', 'AcceptedCmp1', 'AcceptedCmp2',\n",
       "       'Complain', 'DaysSinceEnrolled', 'YearsSinceEnrolled', 'Age',\n",
       "       'AgeGroup', 'MntTotal', 'MntRegularProds', 'Dependents', 'hasDependent',\n",
       "       'AcceptedCmpTotal', 'hasAcceptedCmp', 'NumTotalPurchases', 'cluster'],\n",
       "      dtype='object')"
      ]
     },
     "execution_count": 21,
     "metadata": {},
     "output_type": "execute_result"
    }
   ],
   "source": [
    "X.columns"
   ]
  },
  {
   "cell_type": "markdown",
   "metadata": {},
   "source": [
    "We are going to use the dummy classifier in a stratified way for the baseline."
   ]
  },
  {
   "cell_type": "code",
   "execution_count": 22,
   "metadata": {},
   "outputs": [],
   "source": [
    "models = {\n",
    "    'dummy': DummyClassifier(strategy='stratified', random_state=RANDOM_STATE),\n",
    "    'decision_tree': DecisionTreeClassifier(random_state=RANDOM_STATE),\n",
    "    'logistic_regression': LogisticRegression(random_state=RANDOM_STATE),\n",
    "    'knn': KNeighborsClassifier(n_neighbors=5) \n",
    "}\n",
    "\n",
    "skf = StratifiedKFold(n_splits=5, shuffle=True, random_state=RANDOM_STATE)\n"
   ]
  },
  {
   "cell_type": "code",
   "execution_count": 23,
   "metadata": {},
   "outputs": [],
   "source": [
    "def pipeline_model(X, y, model, kf):\n",
    "    \n",
    "    preprocessing = ColumnTransformer(\n",
    "        transformers=[\n",
    "            ('one_hot_encoder', OneHotEncoder(), one_hot_cols),\n",
    "            ('standard', StandardScaler(), standard_scaler_cols),\n",
    "            ('min_max', MinMaxScaler(), min_max_scaler_cols),\n",
    "            ('power', PowerTransformer(), power_cols)\n",
    "        ]\n",
    "    )\n",
    "\n",
    "    pipeline = Pipeline(\n",
    "        [\n",
    "            ('preprocessing', preprocessing),\n",
    "            ('feature_selection', SelectKBest(score_func=f_classif, k=10)),\n",
    "            ('random_under_sampler', RandomUnderSampler(random_state=RANDOM_STATE)),\n",
    "            ('model', model)\n",
    "        ]\n",
    "    )\n",
    "\n",
    "    scores = cross_validate(\n",
    "        pipeline, \n",
    "        X, \n",
    "        y, \n",
    "        cv=kf, \n",
    "        scoring=[\n",
    "            'accuracy',\n",
    "            'precision',\n",
    "            'recall',\n",
    "            'roc_auc',\n",
    "            'average_precision'\n",
    "        ],\n",
    "        n_jobs=-1)\n",
    "\n",
    "    return scores"
   ]
  },
  {
   "cell_type": "code",
   "execution_count": 24,
   "metadata": {},
   "outputs": [],
   "source": [
    "results = {\n",
    "    key: pipeline_model(X, y, model, skf) for key, model in models.items() \n",
    "}"
   ]
  },
  {
   "cell_type": "code",
   "execution_count": 27,
   "metadata": {},
   "outputs": [
    {
     "name": "stdout",
     "output_type": "stream",
     "text": [
      "{'decision_tree': {'fit_time': array([0.16184759, 0.13664365, 0.15304422, 0.17766237, 0.18752789]),\n",
      "                   'score_time': array([0.05648112, 0.05330682, 0.06480312, 0.06964922, 0.06972313]),\n",
      "                   'test_accuracy': array([0.79006772, 0.70880361, 0.77828054, 0.82352941, 0.68325792]),\n",
      "                   'test_average_precision': array([0.31594929, 0.27095021, 0.31448828, 0.39919495, 0.24005698]),\n",
      "                   'test_precision': array([0.35227273, 0.29605263, 0.34343434, 0.43478261, 0.27710843]),\n",
      "                   'test_recall': array([0.46268657, 0.67164179, 0.50746269, 0.60606061, 0.6969697 ]),\n",
      "                   'test_roc_auc': array([0.69659019, 0.7001429 , 0.66674627, 0.78441328, 0.68651273])},\n",
      " 'dummy': {'fit_time': array([0.16774035, 0.16044664, 0.15317512, 0.18137407, 0.18337035]),\n",
      "           'score_time': array([0.08574176, 0.0757041 , 0.0894208 , 0.0769496 , 0.07379079]),\n",
      "           'test_accuracy': array([0.49887133, 0.53498871, 0.49547511, 0.50226244, 0.50678733]),\n",
      "           'test_average_precision': array([0.14599975, 0.16570573, 0.14462817, 0.14516929, 0.14722574]),\n",
      "           'test_precision': array([0.13953488, 0.17674419, 0.13551402, 0.14018692, 0.14485981]),\n",
      "           'test_recall': array([0.44776119, 0.56716418, 0.43283582, 0.45454545, 0.46969697]),\n",
      "           'test_roc_auc': array([0.47786996, 0.54820975, 0.46975124, 0.48259188, 0.49149742])},\n",
      " 'knn': {'fit_time': array([0.19176531, 0.1879797 , 0.17464733, 0.17160726, 0.17160726]),\n",
      "         'score_time': array([0.13773561, 0.1163795 , 0.11326146, 0.12970114, 0.12464118]),\n",
      "         'test_accuracy': array([0.81941309, 0.73363431, 0.78733032, 0.8438914 , 0.74660633]),\n",
      "         'test_average_precision': array([0.33693405, 0.29340738, 0.31670301, 0.34428777, 0.41898651]),\n",
      "         'test_precision': array([0.4084507 , 0.30232558, 0.36082474, 0.47887324, 0.35064935]),\n",
      "         'test_recall': array([0.43283582, 0.58208955, 0.52238806, 0.51515152, 0.81818182]),\n",
      "         'test_roc_auc': array([0.68228009, 0.71683471, 0.70628856, 0.7205029 , 0.82227192])},\n",
      " 'logistic_regression': {'fit_time': array([0.16637969, 0.19606614, 0.17221379, 0.15338588, 0.16451263]),\n",
      "                         'score_time': array([0.07021713, 0.05132365, 0.06795645, 0.08022761, 0.06576538]),\n",
      "                         'test_accuracy': array([0.81038375, 0.77878104, 0.78959276, 0.81221719, 0.85294118]),\n",
      "                         'test_average_precision': array([0.39042739, 0.4777597 , 0.38869994, 0.49428713, 0.54788309]),\n",
      "                         'test_precision': array([0.39506173, 0.35514019, 0.375     , 0.40449438, 0.5060241 ]),\n",
      "                         'test_recall': array([0.47761194, 0.56716418, 0.58208955, 0.54545455, 0.63636364]),\n",
      "                         'test_roc_auc': array([0.73912353, 0.73191886, 0.76923383, 0.78072614, 0.81455513])}}\n"
     ]
    }
   ],
   "source": [
    "pprint(results)"
   ]
  },
  {
   "cell_type": "code",
   "execution_count": 28,
   "metadata": {},
   "outputs": [],
   "source": [
    "for k, v in results.items():\n",
    "    results[k]['time'] = results[k]['fit_time'] + results[k]['score_time']"
   ]
  },
  {
   "cell_type": "code",
   "execution_count": 30,
   "metadata": {},
   "outputs": [
    {
     "name": "stdout",
     "output_type": "stream",
     "text": [
      "{'decision_tree': {'fit_time': array([0.16184759, 0.13664365, 0.15304422, 0.17766237, 0.18752789]),\n",
      "                   'score_time': array([0.05648112, 0.05330682, 0.06480312, 0.06964922, 0.06972313]),\n",
      "                   'test_accuracy': array([0.79006772, 0.70880361, 0.77828054, 0.82352941, 0.68325792]),\n",
      "                   'test_average_precision': array([0.31594929, 0.27095021, 0.31448828, 0.39919495, 0.24005698]),\n",
      "                   'test_precision': array([0.35227273, 0.29605263, 0.34343434, 0.43478261, 0.27710843]),\n",
      "                   'test_recall': array([0.46268657, 0.67164179, 0.50746269, 0.60606061, 0.6969697 ]),\n",
      "                   'test_roc_auc': array([0.69659019, 0.7001429 , 0.66674627, 0.78441328, 0.68651273]),\n",
      "                   'time': array([0.21832871, 0.18995047, 0.21784735, 0.24731159, 0.25725102])},\n",
      " 'dummy': {'fit_time': array([0.16774035, 0.16044664, 0.15317512, 0.18137407, 0.18337035]),\n",
      "           'score_time': array([0.08574176, 0.0757041 , 0.0894208 , 0.0769496 , 0.07379079]),\n",
      "           'test_accuracy': array([0.49887133, 0.53498871, 0.49547511, 0.50226244, 0.50678733]),\n",
      "           'test_average_precision': array([0.14599975, 0.16570573, 0.14462817, 0.14516929, 0.14722574]),\n",
      "           'test_precision': array([0.13953488, 0.17674419, 0.13551402, 0.14018692, 0.14485981]),\n",
      "           'test_recall': array([0.44776119, 0.56716418, 0.43283582, 0.45454545, 0.46969697]),\n",
      "           'test_roc_auc': array([0.47786996, 0.54820975, 0.46975124, 0.48259188, 0.49149742]),\n",
      "           'time': array([0.2534821 , 0.23615074, 0.24259591, 0.25832367, 0.25716114])},\n",
      " 'knn': {'fit_time': array([0.19176531, 0.1879797 , 0.17464733, 0.17160726, 0.17160726]),\n",
      "         'score_time': array([0.13773561, 0.1163795 , 0.11326146, 0.12970114, 0.12464118]),\n",
      "         'test_accuracy': array([0.81941309, 0.73363431, 0.78733032, 0.8438914 , 0.74660633]),\n",
      "         'test_average_precision': array([0.33693405, 0.29340738, 0.31670301, 0.34428777, 0.41898651]),\n",
      "         'test_precision': array([0.4084507 , 0.30232558, 0.36082474, 0.47887324, 0.35064935]),\n",
      "         'test_recall': array([0.43283582, 0.58208955, 0.52238806, 0.51515152, 0.81818182]),\n",
      "         'test_roc_auc': array([0.68228009, 0.71683471, 0.70628856, 0.7205029 , 0.82227192]),\n",
      "         'time': array([0.32950091, 0.3043592 , 0.28790879, 0.30130839, 0.29624844])},\n",
      " 'logistic_regression': {'fit_time': array([0.16637969, 0.19606614, 0.17221379, 0.15338588, 0.16451263]),\n",
      "                         'score_time': array([0.07021713, 0.05132365, 0.06795645, 0.08022761, 0.06576538]),\n",
      "                         'test_accuracy': array([0.81038375, 0.77878104, 0.78959276, 0.81221719, 0.85294118]),\n",
      "                         'test_average_precision': array([0.39042739, 0.4777597 , 0.38869994, 0.49428713, 0.54788309]),\n",
      "                         'test_precision': array([0.39506173, 0.35514019, 0.375     , 0.40449438, 0.5060241 ]),\n",
      "                         'test_recall': array([0.47761194, 0.56716418, 0.58208955, 0.54545455, 0.63636364]),\n",
      "                         'test_roc_auc': array([0.73912353, 0.73191886, 0.76923383, 0.78072614, 0.81455513]),\n",
      "                         'time': array([0.23659682, 0.24738979, 0.24017024, 0.23361349, 0.23027802])}}\n"
     ]
    }
   ],
   "source": [
    "pprint(results)"
   ]
  },
  {
   "cell_type": "code",
   "execution_count": 39,
   "metadata": {},
   "outputs": [],
   "source": [
    "df_results = pd.DataFrame(results).T.reset_index().rename(columns={'index': 'model'})\n",
    "df_results = df_results.explode(\n",
    "    df_results.columns[1:].tolist()\n",
    ").reset_index(drop=True)"
   ]
  },
  {
   "cell_type": "code",
   "execution_count": 67,
   "metadata": {},
   "outputs": [
    {
     "data": {
      "image/png": "[encoded data removed]",
      "text/plain": [
       "<Figure size 1500x600 with 6 Axes>"
      ]
     },
     "metadata": {},
     "output_type": "display_data"
    }
   ],
   "source": [
    "fig, axs = plt.subplots(ncols=3, nrows=2, tight_layout=True, figsize=(15,6))\n",
    "\n",
    "cols = df_results.columns[3:].tolist()\n",
    "\n",
    "for ax, col in zip(axs.flatten(), cols):\n",
    "    b = sns.boxplot(data=df_results, y=col, ax=ax, x='model')\n",
    "    ax.tick_params(axis='x', labelsize=8)"
   ]
  },
  {
   "cell_type": "markdown",
   "metadata": {},
   "source": [
    "All metrics suggests the logistic regression as a good model. Comparing it to the decision tree and KNN, the logistic regression is better at roc, average_precision and total time (fit and score) and is comparable in accuracy, precision and recall. Logistic regression was also better than KNN in fit + score time."
   ]
  },
  {
   "cell_type": "code",
   "execution_count": null,
   "metadata": {},
   "outputs": [],
   "source": []
  }
 ],
 "metadata": {
  "kernelspec": {
   "display_name": "ifood-data-analyst",
   "language": "python",
   "name": "python3"
  },
  "language_info": {
   "codemirror_mode": {
    "name": "ipython",
    "version": 3
   },
   "file_extension": ".py",
   "mimetype": "text/x-python",
   "name": "python",
   "nbconvert_exporter": "python",
   "pygments_lexer": "ipython3",
   "version": "3.12.3"
  }
 },
 "nbformat": 4,
 "nbformat_minor": 2
}
