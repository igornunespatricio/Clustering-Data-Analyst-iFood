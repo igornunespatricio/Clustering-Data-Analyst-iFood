{
 "cells": [
  {
   "cell_type": "code",
   "execution_count": 1,
   "metadata": {},
   "outputs": [],
   "source": [
    "import pandas as pd"
   ]
  },
  {
   "cell_type": "code",
   "execution_count": 2,
   "metadata": {},
   "outputs": [],
   "source": [
    "DATA = '../data/cleaned_data.csv'"
   ]
  },
  {
   "cell_type": "code",
   "execution_count": 6,
   "metadata": {},
   "outputs": [],
   "source": [
    "df = pd.read_csv(DATA)"
   ]
  },
  {
   "cell_type": "code",
   "execution_count": 8,
   "metadata": {},
   "outputs": [
    {
     "name": "stdout",
     "output_type": "stream",
     "text": [
      "<class 'pandas.core.frame.DataFrame'>\n",
      "RangeIndex: 2212 entries, 0 to 2211\n",
      "Data columns (total 35 columns):\n",
      " #   Column               Non-Null Count  Dtype  \n",
      "---  ------               --------------  -----  \n",
      " 0   Education            2212 non-null   object \n",
      " 1   Marital_Status       2212 non-null   object \n",
      " 2   Income               2212 non-null   float64\n",
      " 3   Kidhome              2212 non-null   int64  \n",
      " 4   Teenhome             2212 non-null   int64  \n",
      " 5   Recency              2212 non-null   int64  \n",
      " 6   MntWines             2212 non-null   int64  \n",
      " 7   MntFruits            2212 non-null   int64  \n",
      " 8   MntMeatProducts      2212 non-null   int64  \n",
      " 9   MntFishProducts      2212 non-null   int64  \n",
      " 10  MntSweetProducts     2212 non-null   int64  \n",
      " 11  MntGoldProds         2212 non-null   int64  \n",
      " 12  NumDealsPurchases    2212 non-null   int64  \n",
      " 13  NumWebPurchases      2212 non-null   int64  \n",
      " 14  NumCatalogPurchases  2212 non-null   int64  \n",
      " 15  NumStorePurchases    2212 non-null   int64  \n",
      " 16  NumWebVisitsMonth    2212 non-null   int64  \n",
      " 17  AcceptedCmp3         2212 non-null   int64  \n",
      " 18  AcceptedCmp4         2212 non-null   int64  \n",
      " 19  AcceptedCmp5         2212 non-null   int64  \n",
      " 20  AcceptedCmp1         2212 non-null   int64  \n",
      " 21  AcceptedCmp2         2212 non-null   int64  \n",
      " 22  Complain             2212 non-null   int64  \n",
      " 23  Response             2212 non-null   int64  \n",
      " 24  DaysSinceEnrolled    2212 non-null   int64  \n",
      " 25  YearsSinceEnrolled   2212 non-null   int64  \n",
      " 26  Age                  2212 non-null   int64  \n",
      " 27  AgeGroup             2212 non-null   object \n",
      " 28  MntTotal             2212 non-null   int64  \n",
      " 29  MntRegularProds      2212 non-null   int64  \n",
      " 30  Dependents           2212 non-null   int64  \n",
      " 31  hasDependent         2212 non-null   int64  \n",
      " 32  AcceptedCmpTotal     2212 non-null   int64  \n",
      " 33  hasAcceptedCmp       2212 non-null   int64  \n",
      " 34  NumTotalPurchases    2212 non-null   int64  \n",
      "dtypes: float64(1), int64(31), object(3)\n",
      "memory usage: 605.0+ KB\n"
     ]
    }
   ],
   "source": [
    "df.info()"
   ]
  },
  {
   "cell_type": "code",
   "execution_count": null,
   "metadata": {},
   "outputs": [],
   "source": []
  }
 ],
 "metadata": {
  "kernelspec": {
   "display_name": "ifood-data-analyst",
   "language": "python",
   "name": "python3"
  },
  "language_info": {
   "codemirror_mode": {
    "name": "ipython",
    "version": 3
   },
   "file_extension": ".py",
   "mimetype": "text/x-python",
   "name": "python",
   "nbconvert_exporter": "python",
   "pygments_lexer": "ipython3",
   "version": "3.12.3"
  }
 },
 "nbformat": 4,
 "nbformat_minor": 2
}
